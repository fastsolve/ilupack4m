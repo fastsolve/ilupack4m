{
 "cells": [
  {
   "cell_type": "markdown",
   "metadata": {},
   "source": [
    "Consider \n",
    "\\[\n",
    "\\boldsymbol{P}^{T}\\boldsymbol{A}\\boldsymbol{Q}=\\begin{bmatrix}\\boldsymbol{B} & \\boldsymbol{F}\\\\\n",
    "\\boldsymbol{E} & \\boldsymbol{C}\n",
    "\\end{bmatrix}.\n",
    "\\]\n",
    "Let $\\boldsymbol{B}=\\boldsymbol{L}\\boldsymbol{D}\\boldsymbol{U}$. Then\n",
    "\\begin{align*}\n",
    "\\boldsymbol{P}^{T}\\boldsymbol{A}\\boldsymbol{Q} & =\\begin{bmatrix}\\boldsymbol{B} & \\boldsymbol{F}\\\\\n",
    "\\boldsymbol{E} & \\boldsymbol{C}\n",
    "\\end{bmatrix}\\\\\n",
    " & =\\begin{bmatrix}\\boldsymbol{L} & \\boldsymbol{0}\\\\\n",
    "\\boldsymbol{EU}^{-1}\\boldsymbol{D}^{-1} & \\boldsymbol{I}_{C}\n",
    "\\end{bmatrix}\\begin{bmatrix}\\boldsymbol{D} & \\boldsymbol{0}\\\\\n",
    "\\boldsymbol{0} & \\boldsymbol{S}\n",
    "\\end{bmatrix}\\begin{bmatrix}\\boldsymbol{U} & \\boldsymbol{D}^{-1}\\boldsymbol{L}^{-1}\\boldsymbol{F}\\\\\n",
    "\\boldsymbol{0} & \\boldsymbol{I}_{C}\n",
    "\\end{bmatrix},\n",
    "\\end{align*}\n",
    "where $\\boldsymbol{S}$ is the Schur complement, $\\boldsymbol{I}_{B}$\n",
    "has the same size as $\\boldsymbol{B}$, and $\\boldsymbol{I}_{C}$\n",
    "has the same dimension as $\\boldsymbol{C}$."
   ]
  },
  {
   "cell_type": "markdown",
   "metadata": {},
   "source": [
    "Alternatively, \n",
    "\\begin{align*}\n",
    "\\boldsymbol{P}^{T}\\boldsymbol{A}\\boldsymbol{Q} & =\\begin{bmatrix}\\boldsymbol{I}_{B} & \\boldsymbol{0}\\\\\n",
    "\\boldsymbol{EB}^{-1} & \\boldsymbol{I}_{C}\n",
    "\\end{bmatrix}\\begin{bmatrix}\\boldsymbol{B} & \\boldsymbol{0}\\\\\n",
    "\\boldsymbol{0} & \\boldsymbol{S}\n",
    "\\end{bmatrix}\\begin{bmatrix}\\boldsymbol{I}_{B} & \\boldsymbol{B}^{-1}\\boldsymbol{F}\\\\\n",
    "\\boldsymbol{0} & \\boldsymbol{I}_{C}\n",
    "\\end{bmatrix}.\n",
    "\\end{align*}\n",
    "Therefore, \n",
    "\\begin{align*}\n",
    "\\left(\\boldsymbol{P}^{T}\\boldsymbol{A}\\boldsymbol{Q}\\right)^{-1} & =\\begin{bmatrix}\\boldsymbol{I}_{B} & \\boldsymbol{B}^{-1}\\boldsymbol{F}\\\\\n",
    "\\boldsymbol{0} & \\boldsymbol{I}_{C}\n",
    "\\end{bmatrix}^{-1}\\begin{bmatrix}\\boldsymbol{B} & \\boldsymbol{0}\\\\\n",
    "\\boldsymbol{0} & \\boldsymbol{S}\n",
    "\\end{bmatrix}^{-1}\\begin{bmatrix}\\boldsymbol{I}_{B} & \\boldsymbol{0}\\\\\n",
    "\\boldsymbol{EB}^{-1} & \\boldsymbol{I}_{C}\n",
    "\\end{bmatrix}^{-1}\\\\\n",
    " & =\\begin{bmatrix}\\boldsymbol{I}_{B} & -\\boldsymbol{B}^{-1}\\boldsymbol{F}\\\\\n",
    "\\boldsymbol{0} & \\boldsymbol{I}_{C}\n",
    "\\end{bmatrix}\\begin{bmatrix}\\boldsymbol{B}^{-1} & \\boldsymbol{0}\\\\\n",
    "\\boldsymbol{0} & \\boldsymbol{S}^{-1}\n",
    "\\end{bmatrix}\\begin{bmatrix}\\boldsymbol{I} & \\boldsymbol{0}\\\\\n",
    "-\\boldsymbol{EB}^{-1} & \\boldsymbol{I}_{C}\n",
    "\\end{bmatrix}\\\\\n",
    " & =\\begin{bmatrix}\\boldsymbol{B}^{-1} & \\boldsymbol{0}\\\\\n",
    "\\boldsymbol{0} & \\boldsymbol{0}_{C}\n",
    "\\end{bmatrix}+\\begin{bmatrix}-\\boldsymbol{B}^{-1}\\boldsymbol{F}\\\\\n",
    "\\boldsymbol{I}_{C}\n",
    "\\end{bmatrix}\\boldsymbol{S}^{-1}\\begin{bmatrix}-\\boldsymbol{EB}^{-1} & \\boldsymbol{I}_{C}\\end{bmatrix}.\n",
    "\\end{align*}\n"
   ]
  },
  {
   "cell_type": "code",
   "execution_count": null,
   "metadata": {
    "collapsed": true
   },
   "outputs": [],
   "source": []
  }
 ],
 "metadata": {
  "kernelspec": {
   "display_name": "Octave",
   "language": "octave",
   "name": "octave"
  },
  "language_info": {
   "file_extension": ".m",
   "help_links": [
    {
     "text": "GNU Octave",
     "url": "https://www.gnu.org/software/octave/support.html"
    },
    {
     "text": "Octave Kernel",
     "url": "https://github.com/Calysto/octave_kernel"
    },
    {
     "text": "MetaKernel Magics",
     "url": "https://github.com/calysto/metakernel/blob/master/metakernel/magics/README.md"
    }
   ],
   "mimetype": "text/x-octave",
   "name": "octave",
   "version": "4.2.1"
  },
  "latex_envs": {
   "LaTeX_envs_menu_present": true,
   "autocomplete": true,
   "bibliofile": "biblio.bib",
   "cite_by": "apalike",
   "current_citInitial": 1,
   "eqLabelWithNumbers": true,
   "eqNumInitial": 1,
   "hotkeys": {
    "equation": "Ctrl-E",
    "itemize": "Ctrl-I"
   },
   "labels_anchors": false,
   "latex_user_defs": false,
   "report_style_numbering": false,
   "user_envs_cfg": false
  }
 },
 "nbformat": 4,
 "nbformat_minor": 2
}
